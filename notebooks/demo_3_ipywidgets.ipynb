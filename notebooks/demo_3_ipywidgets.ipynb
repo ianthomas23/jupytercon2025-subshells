{
 "cells": [
  {
   "cell_type": "code",
   "execution_count": 1,
   "id": "a3600d23-63b9-4a8f-86be-7c2a453ad462",
   "metadata": {},
   "outputs": [],
   "source": [
    "from ipywidgets import HBox, IntSlider\n",
    "import time\n",
    "from traitlets import link"
   ]
  },
  {
   "cell_type": "code",
   "execution_count": 2,
   "id": "cf42830b-bdc4-48ac-977d-9abaf0e19aef",
   "metadata": {},
   "outputs": [
    {
     "data": {
      "application/vnd.jupyter.widget-view+json": {
       "model_id": "84129ec96ab44ec6afcfd4d3774271bc",
       "version_major": 2,
       "version_minor": 0
      },
      "text/plain": [
       "HBox(children=(IntSlider(value=0, orientation='vertical'), IntSlider(value=0, orientation='vertical'), IntSlid…"
      ]
     },
     "execution_count": 2,
     "metadata": {},
     "output_type": "execute_result"
    }
   ],
   "source": [
    "n = 10\n",
    "sliders = [IntSlider(orientation='vertical') for i in range(n)]\n",
    "HBox(sliders)"
   ]
  },
  {
   "cell_type": "code",
   "execution_count": 3,
   "id": "131fad3f-40ca-47b1-9089-58925686dd4a",
   "metadata": {},
   "outputs": [],
   "source": [
    "# Link all the sliders in python\n",
    "links = [link((sliders[i], 'value'), (sliders[i+1], 'value')) for i in range(n-1)]"
   ]
  },
  {
   "cell_type": "code",
   "execution_count": 4,
   "id": "eb2d735d-5ecc-49eb-b154-7a5d34601699",
   "metadata": {},
   "outputs": [
    {
     "name": "stdout",
     "output_type": "stream",
     "text": [
      "0 0\n",
      "0 0\n",
      "0 0\n",
      "0 0\n",
      "0 0\n",
      "0 0\n",
      "0 0\n",
      "0 0\n",
      "0 0\n",
      "0 0\n"
     ]
    }
   ],
   "source": [
    "for i in range(10):\n",
    "    time.sleep(1)\n",
    "    print(sliders[0].value, sliders[-1].value)"
   ]
  },
  {
   "cell_type": "code",
   "execution_count": null,
   "id": "45ccce73-ec13-4a11-84b1-2d74b42a89dc",
   "metadata": {},
   "outputs": [],
   "source": []
  }
 ],
 "metadata": {
  "kernelspec": {
   "display_name": "Python 3 (ipykernel)",
   "language": "python",
   "name": "python3"
  },
  "language_info": {
   "codemirror_mode": {
    "name": "ipython",
    "version": 3
   },
   "file_extension": ".py",
   "mimetype": "text/x-python",
   "name": "python",
   "nbconvert_exporter": "python",
   "pygments_lexer": "ipython3",
   "version": "3.14.0"
  }
 },
 "nbformat": 4,
 "nbformat_minor": 5
}
