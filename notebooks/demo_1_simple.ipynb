{
 "cells": [
  {
   "cell_type": "code",
   "execution_count": null,
   "id": "090c6acc-e56f-4c1f-8024-c413639a1724",
   "metadata": {},
   "outputs": [],
   "source": [
    "a = [2, 3, 4, 5]\n",
    "a"
   ]
  },
  {
   "cell_type": "code",
   "execution_count": null,
   "id": "a62bcaad-0ef5-4c9e-9e8c-ce9a239d2db1",
   "metadata": {
    "editable": true,
    "slideshow": {
     "slide_type": ""
    },
    "tags": []
   },
   "outputs": [],
   "source": [
    "import os, threading as t\n",
    "print({\"pid\": os.getpid(), \"thread_count\": t.active_count(), \"thread_id\": t.current_thread()})"
   ]
  },
  {
   "cell_type": "code",
   "execution_count": null,
   "id": "c72811d3-ebf7-44ee-a787-c3c501d61745",
   "metadata": {
    "editable": true,
    "slideshow": {
     "slide_type": ""
    },
    "tags": []
   },
   "outputs": [],
   "source": [
    "%subshell"
   ]
  },
  {
   "cell_type": "code",
   "execution_count": null,
   "id": "34e331d0-1772-45ce-83ed-5b388225bcc4",
   "metadata": {},
   "outputs": [],
   "source": [
    "# Simulate a long-running task.\n",
    "import time\n",
    "for b in range(10):\n",
    "    print('b =', b)\n",
    "    time.sleep(1)"
   ]
  },
  {
   "cell_type": "code",
   "execution_count": null,
   "id": "a94a83c7-e120-4c34-b465-3c7e633b375d",
   "metadata": {},
   "outputs": [],
   "source": []
  }
 ],
 "metadata": {
  "kernelspec": {
   "display_name": "Python 3 (ipykernel)",
   "language": "python",
   "name": "python3"
  },
  "language_info": {
   "codemirror_mode": {
    "name": "ipython",
    "version": 3
   },
   "file_extension": ".py",
   "mimetype": "text/x-python",
   "name": "python",
   "nbconvert_exporter": "python",
   "pygments_lexer": "ipython3",
   "version": "3.14.0"
  }
 },
 "nbformat": 4,
 "nbformat_minor": 5
}
