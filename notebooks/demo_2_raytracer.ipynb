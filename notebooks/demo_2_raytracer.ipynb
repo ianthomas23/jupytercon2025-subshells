{
 "cells": [
  {
   "cell_type": "code",
   "execution_count": null,
   "id": "1f697483-ce2b-49cc-9e3d-feec5c1de98c",
   "metadata": {},
   "outputs": [],
   "source": [
    "from IPython.display import display\n",
    "import time\n",
    "from raytracer import RayTracer\n",
    "\n",
    "ray_tracer = RayTracer(700, 500)"
   ]
  },
  {
   "cell_type": "markdown",
   "id": "bf4a9a3a-5ac7-4d96-9c42-35314729655a",
   "metadata": {},
   "source": [
    "## Run ray tracer\n",
    "\n",
    "### With just a single thread in this notebook we cannot plot the results until the calculation has finished"
   ]
  },
  {
   "cell_type": "code",
   "execution_count": null,
   "id": "49866843-8013-4110-8a40-44be22722a76",
   "metadata": {},
   "outputs": [],
   "source": [
    "ray_tracer.run_random()"
   ]
  },
  {
   "cell_type": "markdown",
   "id": "9c312380-f822-4fd3-9ec4-fed5e407b80a",
   "metadata": {},
   "source": [
    "## Plot ray traced image"
   ]
  },
  {
   "cell_type": "code",
   "execution_count": null,
   "id": "e6219511-ac58-414e-80e8-00b9aa126531",
   "metadata": {},
   "outputs": [],
   "source": [
    "handle = display(ray_tracer.as_image(), display_id=True)"
   ]
  },
  {
   "cell_type": "code",
   "execution_count": null,
   "id": "5eb89836-3147-4778-b1da-915a8dfeff5e",
   "metadata": {},
   "outputs": [],
   "source": [
    "ray_tracer.reset()"
   ]
  },
  {
   "cell_type": "raw",
   "id": "24068e26-4c1b-49e3-acd5-f514010968cc",
   "metadata": {},
   "source": [
    "# code to run in subshell\n",
    "while not ray_tracer.completed:\n",
    "    handle.update(ray_tracer.as_image())\n",
    "    time.sleep(0.5)\n",
    "handle.update(ray_tracer.as_image())"
   ]
  },
  {
   "cell_type": "code",
   "execution_count": null,
   "id": "f8b1bbd4-fc98-49eb-aafd-bb1899bb5536",
   "metadata": {},
   "outputs": [],
   "source": []
  }
 ],
 "metadata": {
  "kernelspec": {
   "display_name": "Python 3 (ipykernel)",
   "language": "python",
   "name": "python3"
  },
  "language_info": {
   "codemirror_mode": {
    "name": "ipython",
    "version": 3
   },
   "file_extension": ".py",
   "mimetype": "text/x-python",
   "name": "python",
   "nbconvert_exporter": "python",
   "pygments_lexer": "ipython3",
   "version": "3.14.0"
  }
 },
 "nbformat": 4,
 "nbformat_minor": 5
}
